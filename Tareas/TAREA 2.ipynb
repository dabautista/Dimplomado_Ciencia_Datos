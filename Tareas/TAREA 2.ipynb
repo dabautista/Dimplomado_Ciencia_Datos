{
 "cells": [
  {
   "cell_type": "markdown",
   "id": "40d16f25-7064-400a-9a4a-5e7cfcd2278b",
   "metadata": {},
   "source": [
    "TAREA 2 INTELIGENCIA ARTIFICIAL"
   ]
  },
  {
   "cell_type": "markdown",
   "id": "73715d47-9eae-4c01-9e17-7a461fe6aec5",
   "metadata": {},
   "source": [
    "**_Escriba una función  que reciba la fecha de nacimiento de un a persona y calcule la edad de la persona_**"
   ]
  },
  {
   "cell_type": "code",
   "execution_count": 38,
   "id": "75077096-1cd5-4660-a5c8-d6f14ebcfa78",
   "metadata": {},
   "outputs": [
    {
     "name": "stdin",
     "output_type": "stream",
     "text": [
      "Ingrese el día de nacimiento:  23\n",
      "Ingrese el mes de nacimiento:  4\n",
      "Ingrese el año de nacimiento:  2003\n"
     ]
    },
    {
     "name": "stdout",
     "output_type": "stream",
     "text": [
      "La persona tiene 20 años.\n"
     ]
    }
   ],
   "source": [
    "\n",
    "\n",
    "from datetime import date\n",
    "\n",
    "def calcular_edad():\n",
    "    dia = int(input(\"Ingrese el día de nacimiento: \"))\n",
    "    mes = int(input(\"Ingrese el mes de nacimiento: \"))\n",
    "    anio = int(input(\"Ingrese el año de nacimiento: \"))\n",
    "    \n",
    "    fecha_nacimiento = date(anio, mes, dia)\n",
    "    fecha_actual = date.today()\n",
    "    edad = fecha_actual.year - fecha_nacimiento.year\n",
    "    \n",
    "    if fecha_actual.month < fecha_nacimiento.month:\n",
    "        edad -= 1\n",
    "    elif fecha_actual.month == fecha_nacimiento.month and fecha_actual.day < fecha_nacimiento.day:\n",
    "        edad -= 1\n",
    "    \n",
    "    return edad\n",
    "\n",
    "# Ejemplo de uso\n",
    "edad = calcular_edad()\n",
    "print(f\"La persona tiene {edad} años.\")\n",
    "\n",
    "\n"
   ]
  },
  {
   "cell_type": "markdown",
   "id": "6c6ca522-d3f8-46f4-b3b1-e2e6e59ebe41",
   "metadata": {},
   "source": [
    "**2.Crea una función EscribirCentrado, que reciba como parámetro un texto y lo escriba centrado en pantalla (suponiendo una anchura de 80 columnas; pista: deberás escribir 40 - longitud/2 espacios antes del texto).**"
   ]
  },
  {
   "cell_type": "code",
   "execution_count": 5,
   "id": "b5300463-7ee5-4ece-be7a-7d8e144f35f1",
   "metadata": {},
   "outputs": [
    {
     "name": "stdout",
     "output_type": "stream",
     "text": [
      "                                  Hola, mundo!\n"
     ]
    }
   ],
   "source": [
    "\n",
    "def EscribirCentrado(texto):\n",
    "    longitud = len(texto)\n",
    "    espacios = (40 - longitud // 2) * \" \"\n",
    "    texto_centrado = espacios + texto\n",
    "    print(texto_centrado)\n",
    "\n",
    "# Ejemplo de uso\n",
    "texto = \"Hola, mundo!\"\n",
    "EscribirCentrado(texto)\n"
   ]
  },
  {
   "cell_type": "markdown",
   "id": "954285d7-9e0d-46d5-a852-c036f6cbad30",
   "metadata": {},
   "source": [
    "**3. Construya una función decorada que reciba un texto y lo escriba marcado con Markdown en itálica y resaltada (bold). Revise la lección de decoradores, no vista en clase.**"
   ]
  },
  {
   "cell_type": "code",
   "execution_count": 11,
   "id": "c794842f-b80b-4b7e-8e91-2e54106efa5b",
   "metadata": {},
   "outputs": [
    {
     "name": "stdin",
     "output_type": "stream",
     "text": [
      "Ingrese un texto:  HOLAAAAAAA\n"
     ]
    },
    {
     "name": "stdout",
     "output_type": "stream",
     "text": [
      "**_HOLAAAAAAA_**\n"
     ]
    }
   ],
   "source": [
    "#Construya una función decorada que reciba un texto y lo escriba marcado con Markdown en itálica y resaltada (bold).\n",
    "#Revise la lección de decoradores, no vista en clase.\n",
    "def markdown_decorator(func):\n",
    "    def wrapper():\n",
    "        text = input(\"Ingrese un texto: \")\n",
    "        formatted_text = f\"**_{text}_**\"\n",
    "        func(formatted_text)\n",
    "    \n",
    "    return wrapper\n",
    "\n",
    "@markdown_decorator\n",
    "def print_formatted_text(text):\n",
    "    print(text)\n",
    "\n",
    "print_formatted_text()\n"
   ]
  },
  {
   "cell_type": "markdown",
   "id": "1d3e9608-aa5a-4fb6-b58e-8d974a14921b",
   "metadata": {},
   "source": [
    "**4.Crea un programa que pida dos número enteros al usuario y diga si alguno de ellos es múltiplo del otro.**"
   ]
  },
  {
   "cell_type": "code",
   "execution_count": 12,
   "id": "f8e47e98-9661-4f97-9568-9ba7d3dc1f49",
   "metadata": {},
   "outputs": [
    {
     "name": "stdin",
     "output_type": "stream",
     "text": [
      "Ingrese el primer número entero:  6\n",
      "Ingrese el segundo número entero:  76757437372727272272\n"
     ]
    },
    {
     "name": "stdout",
     "output_type": "stream",
     "text": [
      "76757437372727272272 es múltiplo de 6\n"
     ]
    }
   ],
   "source": [
    "def verificar_multiplos(num1, num2):\n",
    "    if num1 % num2 == 0:\n",
    "        print(f\"{num1} es múltiplo de {num2}\")\n",
    "    elif num2 % num1 == 0:\n",
    "        print(f\"{num2} es múltiplo de {num1}\")\n",
    "    else:\n",
    "        print(\"Los números no son múltiplos entre sí.\")\n",
    "\n",
    "num1 = int(input(\"Ingrese el primer número entero: \"))\n",
    "num2 = int(input(\"Ingrese el segundo número entero: \"))\n",
    "\n",
    "verificar_multiplos(num1, num2)\n"
   ]
  },
  {
   "cell_type": "markdown",
   "id": "2dbad5e0-9911-42cd-9a44-3e94979c5a85",
   "metadata": {},
   "source": [
    "**5.Crear una función que reciba una lista  de 24 valores de temperatura leída  hora en un día y que calcule la temperatura media  Cree una lista con 24 valores de temperatura de un día de Bogotá y pruebe su función. Invente los datos.**"
   ]
  },
  {
   "cell_type": "code",
   "execution_count": 13,
   "id": "47562b7e-3cb5-4259-857c-45aedbbc11e2",
   "metadata": {},
   "outputs": [
    {
     "name": "stdout",
     "output_type": "stream",
     "text": [
      "La temperatura media en Bogotá fue: 18.437500000000004\n"
     ]
    }
   ],
   "source": [
    "#Crear una función re reciba una lista  de 24 valores de temperatura leída  hora en un día y que calcule la temperatura media  Cree una lista con 24 valores de temperatura de un día de Bogotá y pruebe su función. Invente los datos\n",
    "def calcular_temperatura_media(temperaturas):\n",
    "    total_temperaturas = sum(temperaturas)\n",
    "    media_temperaturas = total_temperaturas / len(temperaturas)\n",
    "    return media_temperaturas\n",
    "\n",
    "temperaturas_bogota = [18.5, 18.2, 18.1, 17.8, 17.6, 17.5, 17.3, 17.1, 16.9, 16.8, 17.0, 17.2, 17.6, 18.2, 19.0, 19.5, 19.8, 20.1, 20.3, 20.2, 20.0, 19.7, 19.3, 18.8]\n",
    "\n",
    "temperatura_media = calcular_temperatura_media(temperaturas_bogota)\n",
    "print(\"La temperatura media en Bogotá fue:\", temperatura_media)\n"
   ]
  },
  {
   "cell_type": "markdown",
   "id": "c34a039d-497f-4073-b971-7a32fb5cdcb5",
   "metadata": {},
   "source": [
    "**5. Crea un función “ConvertirEspaciado”, que reciba como parámetro un texto y devuelve una cadena con un espacio adicional tras cada letra. Por ejemplo, “Hola, tú” devolverá “H o l a , t ú “.  Pruebe**"
   ]
  },
  {
   "cell_type": "code",
   "execution_count": 14,
   "id": "55d7b53e-91aa-4efe-bb62-854da3a95b7a",
   "metadata": {},
   "outputs": [
    {
     "name": "stdin",
     "output_type": "stream",
     "text": [
      "Ingrese un texto:  Hola mundoooooo!!!!!\n"
     ]
    },
    {
     "name": "stdout",
     "output_type": "stream",
     "text": [
      "H o l a   m u n d o o o o o o ! ! ! ! !\n"
     ]
    }
   ],
   "source": [
    "def ConvertirEspaciado(texto):\n",
    "    espaciado = ' '.join(list(texto))\n",
    "    return espaciado\n",
    "\n",
    "texto_original = input(\"Ingrese un texto: \")\n",
    "texto_convertido = ConvertirEspaciado(texto_original)\n",
    "print(texto_convertido)\n"
   ]
  },
  {
   "cell_type": "markdown",
   "id": "082b6ca5-d80d-4f48-b863-032750f41ee1",
   "metadata": {},
   "source": [
    "**6. Crea una función “calcularMaxMin” que recibe una arreglo con valores numérico y devuelve el valor máximo y el mínimo.**"
   ]
  },
  {
   "cell_type": "code",
   "execution_count": 15,
   "id": "0a2361b6-82a8-4b94-9704-aa745e25cb0a",
   "metadata": {},
   "outputs": [
    {
     "name": "stdin",
     "output_type": "stream",
     "text": [
      "Ingrese la cantidad de números en el arreglo:  5\n",
      "Ingrese el número 1:  1\n",
      "Ingrese el número 2:  2\n",
      "Ingrese el número 3:  3\n",
      "Ingrese el número 4:  4\n",
      "Ingrese el número 5:  5\n"
     ]
    },
    {
     "name": "stdout",
     "output_type": "stream",
     "text": [
      "Máximo: 5.0\n",
      "Mínimo: 1.0\n"
     ]
    }
   ],
   "source": [
    "#Crea una función “calcularMaxMin” que recibe una arreglo con valores numérico y devuelve el valor máximo y el mínimo. \n",
    "def calcularMaxMin():\n",
    "    numeros = []\n",
    "    cantidad = int(input(\"Ingrese la cantidad de números en el arreglo: \"))\n",
    "\n",
    "    for i in range(cantidad):\n",
    "        numero = float(input(f\"Ingrese el número {i+1}: \"))\n",
    "        numeros.append(numero)\n",
    "\n",
    "    maximo = max(numeros)\n",
    "    minimo = min(numeros)\n",
    "    return maximo, minimo\n",
    "\n",
    "maximo, minimo = calcularMaxMin()\n",
    "print(\"Máximo:\", maximo)\n",
    "print(\"Mínimo:\", minimo)\n"
   ]
  },
  {
   "cell_type": "markdown",
   "id": "4752233e-0f49-4abf-a578-ad9baf54e9d5",
   "metadata": {},
   "source": [
    "**7.  Diseñar una función que calcule el área y el perímetro de una circunferencia.**"
   ]
  },
  {
   "cell_type": "code",
   "execution_count": 16,
   "id": "4e6ce8d5-2389-403a-8298-2b8eb56529e7",
   "metadata": {},
   "outputs": [
    {
     "name": "stdin",
     "output_type": "stream",
     "text": [
      "Ingrese el radio de la circunferencia:  4\n"
     ]
    },
    {
     "name": "stdout",
     "output_type": "stream",
     "text": [
      "Área: 50.26548245743669\n",
      "Perímetro: 25.132741228718345\n"
     ]
    }
   ],
   "source": [
    "#Diseñar una función que calcule el área y el perímetro de una circunferencia. \n",
    "import math\n",
    "\n",
    "def calcularCircunferencia(radio):\n",
    "    # Calcular el área de la circunferencia\n",
    "    area = math.pi * radio**2\n",
    "\n",
    "    # Calcular el perímetro de la circunferencia\n",
    "    perimetro = 2 * math.pi * radio\n",
    "\n",
    "    return area, perimetro\n",
    "\n",
    "# Ejemplo de uso\n",
    "radio = float(input(\"Ingrese el radio de la circunferencia: \"))\n",
    "area, perimetro = calcularCircunferencia(radio)\n",
    "print(\"Área:\", area)\n",
    "print(\"Perímetro:\", perimetro)\n"
   ]
  },
  {
   "cell_type": "markdown",
   "id": "fc3f659a-65ec-475d-9842-9034754739e4",
   "metadata": {},
   "source": [
    "**8. Crear una función  llamada “Login”, que recibe un nombre de usuario y una contraseña y devuelva Verdadero si el nombre de usuario es “usuario1” y la contraseña es “asdasd”. Además recibe el número de intentos que se ha intentado hacer login y si no se ha podido hacer login incremente este valor.**"
   ]
  },
  {
   "cell_type": "code",
   "execution_count": 39,
   "id": "d7dcaf23-db6e-4b30-8ff8-8bc9a710e63a",
   "metadata": {},
   "outputs": [
    {
     "name": "stdin",
     "output_type": "stream",
     "text": [
      "Ingrese el nombre de usuario:  usuario1\n",
      "Ingrese la contraseña:  asdasd\n"
     ]
    },
    {
     "name": "stdout",
     "output_type": "stream",
     "text": [
      "Inicio de sesión exitoso.\n"
     ]
    }
   ],
   "source": [
    "def Login(nombre_usuario, contrasena, intentos):\n",
    "    if nombre_usuario == \"usuario1\" and contrasena == \"asdasd\":\n",
    "        return True\n",
    "    else:\n",
    "        intentos += 1\n",
    "        return False, intentos\n",
    "\n",
    "# Ejemplo de uso\n",
    "usuario = input(\"Ingrese el nombre de usuario: \")\n",
    "contrasena = input(\"Ingrese la contraseña: \")\n",
    "intentos = 0\n",
    "\n",
    "exito = Login(usuario, contrasena, intentos)\n",
    "if exito is True:\n",
    "    print(\"Inicio de sesión exitoso.\")\n",
    "else:\n",
    "    print(\"Nombre de usuario o contraseña incorrectos. Intentos realizados:\", exito[1])\n"
   ]
  },
  {
   "cell_type": "markdown",
   "id": "ea343247-7cb1-4d5b-92a5-577f39e39350",
   "metadata": {},
   "source": [
    "**9. Crear una función recursiva que permita calcular el factorial de un número. Realiza un programa principal donde se lea un entero y se muestre el resultado del factorial. Revise la lección de funciones.**"
   ]
  },
  {
   "cell_type": "code",
   "execution_count": 28,
   "id": "57d6e5d2-d584-4580-9fed-6c32543ce381",
   "metadata": {},
   "outputs": [
    {
     "name": "stdin",
     "output_type": "stream",
     "text": [
      "Ingrese un número entero:  20\n"
     ]
    },
    {
     "name": "stdout",
     "output_type": "stream",
     "text": [
      "El factorial de 20 es: 2432902008176640000\n"
     ]
    }
   ],
   "source": [
    "def factorial(n):\n",
    "    if n == 0 or n == 1:\n",
    "        return 1\n",
    "    else:\n",
    "        return n * factorial(n - 1)\n",
    "\n",
    "# Programa principal\n",
    "numero = int(input(\"Ingrese un número entero: \"))\n",
    "resultado = factorial(numero)\n",
    "print(\"El factorial de\", numero, \"es:\", resultado)\n"
   ]
  },
  {
   "cell_type": "markdown",
   "id": "70e8b0b0-0ab2-4974-901f-626558f8bbcb",
   "metadata": {},
   "source": [
    "**10 Escribir dos funciones que permitan calcular:\n",
    "La cantidad de segundos en un tiempo dado en horas, minutos y segundos.**\n",
    "\n",
    "\n",
    "**La cantidad de horas, minutos y segundos de un tiempo dado en segundos**"
   ]
  },
  {
   "cell_type": "code",
   "execution_count": 30,
   "id": "9cf5339b-3392-41ef-9d79-63e86e0c5ef4",
   "metadata": {},
   "outputs": [
    {
     "name": "stdin",
     "output_type": "stream",
     "text": [
      "Ingrese las horas:  7\n",
      "Ingrese los minutos:  9\n",
      "Ingrese los segundos:  34\n"
     ]
    },
    {
     "name": "stdout",
     "output_type": "stream",
     "text": [
      "Total de segundos: 25774\n"
     ]
    }
   ],
   "source": [
    "def calcular_segundos(horas, minutos, segundos):\n",
    "    total_segundos = horas * 3600 + minutos * 60 + segundos\n",
    "    return total_segundos\n",
    "\n",
    "# Ejemplo de uso\n",
    "horas = int(input(\"Ingrese las horas: \"))\n",
    "minutos = int(input(\"Ingrese los minutos: \"))\n",
    "segundos = int(input(\"Ingrese los segundos: \"))\n",
    "\n",
    "total_segundos = calcular_segundos(horas, minutos, segundos)\n",
    "print(\"Total de segundos:\", total_segundos)\n"
   ]
  },
  {
   "cell_type": "code",
   "execution_count": 31,
   "id": "e51d9731-d9e4-462b-bd1e-e8c127adeb4d",
   "metadata": {},
   "outputs": [
    {
     "name": "stdin",
     "output_type": "stream",
     "text": [
      "Ingrese los segundos:  2472947247284724\n"
     ]
    },
    {
     "name": "stdout",
     "output_type": "stream",
     "text": [
      "Horas: 686929790912\n",
      "Minutos: 25\n",
      "Segundos: 24\n"
     ]
    }
   ],
   "source": [
    "def calcular_tiempo(segundos):\n",
    "    horas = segundos // 3600\n",
    "    segundos %= 3600\n",
    "    minutos = segundos // 60\n",
    "    segundos %= 60\n",
    "    return horas, minutos, segundos\n",
    "\n",
    "# Ejemplo de uso\n",
    "segundos = int(input(\"Ingrese los segundos: \"))\n",
    "\n",
    "horas, minutos, segundos = calcular_tiempo(segundos)\n",
    "print(\"Horas:\", horas)\n",
    "print(\"Minutos:\", minutos)\n",
    "print(\"Segundos:\", segundos)\n"
   ]
  },
  {
   "cell_type": "code",
   "execution_count": 32,
   "id": "0f11fd4e-20e7-4eb4-a358-1762082cc5e0",
   "metadata": {},
   "outputs": [
    {
     "name": "stdin",
     "output_type": "stream",
     "text": [
      "Ingrese los valores de la tupla separados por comas:  1,1,2,1,33,3,4,4,4,55,32,1,757,7\n"
     ]
    },
    {
     "name": "stdout",
     "output_type": "stream",
     "text": [
      "Tupla invertida: ('7', '757', '1', '32', '55', '4', '4', '4', '3', '33', '1', '2', '1', '1')\n"
     ]
    }
   ],
   "source": [
    "def invertir_tupla():\n",
    "    tupla_original = tuple(input(\"Ingrese los valores de la tupla separados por comas: \").split(','))\n",
    "    tupla_invertida = tuple(reversed(tupla_original))\n",
    "    return tupla_invertida\n",
    "\n",
    "# Ejemplo de uso\n",
    "tupla_invertida = invertir_tupla()\n",
    "print(\"Tupla invertida:\", tupla_invertida)\n"
   ]
  },
  {
   "cell_type": "code",
   "execution_count": 34,
   "id": "4267dbca-2a27-4cdd-938a-757c1b6ba0d3",
   "metadata": {},
   "outputs": [
    {
     "name": "stdin",
     "output_type": "stream",
     "text": [
      "Ingrese los valores de la lista separados por espacios:  1 2 3\n"
     ]
    },
    {
     "name": "stdout",
     "output_type": "stream",
     "text": [
      "Media geométrica: 1.8171205928321397\n"
     ]
    }
   ],
   "source": [
    "import functools\n",
    "\n",
    "def calcular_media_geometrica():\n",
    "    lista = input(\"Ingrese los valores de la lista separados por espacios: \").split()\n",
    "    lista = list(map(float, lista))\n",
    "    producto = functools.reduce(lambda x, y: x * y, lista)\n",
    "    media_geometrica = producto ** (1 / len(lista))\n",
    "    return media_geometrica\n",
    "\n",
    "# Ejemplo de uso\n",
    "media_geometrica = calcular_media_geometrica()\n",
    "print(\"Media geométrica:\", media_geometrica)\n",
    "\n"
   ]
  },
  {
   "cell_type": "code",
   "execution_count": null,
   "id": "03e7f2ae-b51f-413a-9bc6-5b935a97af08",
   "metadata": {},
   "outputs": [],
   "source": []
  }
 ],
 "metadata": {
  "kernelspec": {
   "display_name": "Python 3 (ipykernel)",
   "language": "python",
   "name": "python3"
  },
  "language_info": {
   "codemirror_mode": {
    "name": "ipython",
    "version": 3
   },
   "file_extension": ".py",
   "mimetype": "text/x-python",
   "name": "python",
   "nbconvert_exporter": "python",
   "pygments_lexer": "ipython3",
   "version": "3.9.13"
  }
 },
 "nbformat": 4,
 "nbformat_minor": 5
}
